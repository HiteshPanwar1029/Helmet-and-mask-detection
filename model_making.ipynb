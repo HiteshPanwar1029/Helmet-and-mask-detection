{
 "cells": [
  {
   "cell_type": "code",
   "execution_count": 1,
   "id": "9a7551f9",
   "metadata": {},
   "outputs": [],
   "source": [
    "from tensorflow.keras.preprocessing.image import ImageDataGenerator\n",
    "from tensorflow.keras.applications import MobileNetV2\n",
    "from tensorflow.keras.layers import AveragePooling2D\n",
    "from tensorflow.keras.layers import Dropout\n",
    "from tensorflow.keras.layers import Flatten\n",
    "from tensorflow.keras.layers import Dense\n",
    "from tensorflow.keras.layers import Input\n",
    "from tensorflow.keras.models import Model\n",
    "from tensorflow.keras.optimizers import Adam\n",
    "from tensorflow.keras.applications.mobilenet_v2 import preprocess_input\n",
    "from tensorflow.keras.preprocessing.image import img_to_array\n",
    "from tensorflow.keras.preprocessing.image import load_img\n",
    "from tensorflow.keras.utils import to_categorical\n",
    "from sklearn.preprocessing import LabelBinarizer\n",
    "from sklearn import preprocessing\n",
    "from sklearn.model_selection import train_test_split\n",
    "from sklearn.metrics import classification_report\n",
    "import matplotlib.pyplot as plt\n",
    "import numpy as np\n",
    "import pandas as pd\n",
    "import os\n",
    "from imutils import paths"
   ]
  },
  {
   "cell_type": "code",
   "execution_count": 2,
   "id": "42bb097a",
   "metadata": {},
   "outputs": [],
   "source": [
    "INIT_LR = 1e-4\n",
    "EPOCHS = 15\n",
    "BS = 32"
   ]
  },
  {
   "cell_type": "code",
   "execution_count": 3,
   "id": "27dbdc72",
   "metadata": {},
   "outputs": [],
   "source": [
    "DIRECTORY = \"dataset\"\n",
    "CATEGORIES = [\"both\", \"hat\", \"mask\", \"none\"]"
   ]
  },
  {
   "cell_type": "code",
   "execution_count": 4,
   "id": "c6d9a3d4",
   "metadata": {},
   "outputs": [],
   "source": [
    "data = []\n",
    "labels = []"
   ]
  },
  {
   "cell_type": "code",
   "execution_count": 5,
   "id": "6be6076d",
   "metadata": {},
   "outputs": [],
   "source": [
    "for category in CATEGORIES:\n",
    "    path = os.path.join(DIRECTORY, category)\n",
    "    for img in os.listdir(path):\n",
    "        img_path = os.path.join(path, img)\n",
    "        image = load_img(img_path, target_size=(224, 224))\n",
    "        image = img_to_array(image)\n",
    "        image = preprocess_input(image)\n",
    "\n",
    "        data.append(image)\n",
    "        labels.append(category)"
   ]
  },
  {
   "cell_type": "code",
   "execution_count": 6,
   "id": "72262bac",
   "metadata": {},
   "outputs": [],
   "source": [
    "data = np.array(data, dtype=\"float32\")\n",
    "labels = np.array(labels)"
   ]
  },
  {
   "cell_type": "code",
   "execution_count": 7,
   "id": "0b083e78",
   "metadata": {},
   "outputs": [],
   "source": [
    "labels = preprocessing.label_binarize(labels, classes=CATEGORIES)"
   ]
  },
  {
   "cell_type": "code",
   "execution_count": 8,
   "id": "2763c1be",
   "metadata": {},
   "outputs": [],
   "source": [
    "(trainX, testX, trainY, testY) = train_test_split(data, labels,test_size=0.20, stratify=labels, random_state=42)"
   ]
  },
  {
   "cell_type": "code",
   "execution_count": 9,
   "id": "bf417ed5",
   "metadata": {},
   "outputs": [],
   "source": [
    "aug = ImageDataGenerator(rotation_range=20,zoom_range=0.15,width_shift_range=0.2,height_shift_range=0.2,shear_range=0.15,\n",
    "                         horizontal_flip=True,fill_mode=\"nearest\")"
   ]
  },
  {
   "cell_type": "code",
   "execution_count": 10,
   "id": "0f206ff6",
   "metadata": {},
   "outputs": [
    {
     "name": "stdout",
     "output_type": "stream",
     "text": [
      "WARNING:tensorflow:`input_shape` is undefined or non-square, or `rows` is not in [96, 128, 160, 192, 224]. Weights for input shape (224, 224) will be loaded as the default.\n"
     ]
    }
   ],
   "source": [
    "baseModel = MobileNetV2(weights=\"imagenet\", include_top=False,input_tensor=Input(shape=(224, 224, 3)))"
   ]
  },
  {
   "cell_type": "code",
   "execution_count": 11,
   "id": "f12a12b1",
   "metadata": {},
   "outputs": [],
   "source": [
    "headModel = baseModel.output\n",
    "headModel = AveragePooling2D(pool_size=(7, 7))(headModel)\n",
    "headModel = Flatten(name=\"flatten\")(headModel)\n",
    "headModel = Dense(128, activation=\"relu\")(headModel)\n",
    "headModel = Dropout(0.5)(headModel)\n",
    "headModel = Dense(4, activation=\"softmax\")(headModel)"
   ]
  },
  {
   "cell_type": "code",
   "execution_count": 12,
   "id": "1cf19853",
   "metadata": {},
   "outputs": [],
   "source": [
    "model = Model(inputs=baseModel.input, outputs=headModel)"
   ]
  },
  {
   "cell_type": "code",
   "execution_count": 13,
   "id": "3b6e2470",
   "metadata": {},
   "outputs": [],
   "source": [
    "for layer in baseModel.layers:\n",
    "    layer.trainable = False"
   ]
  },
  {
   "cell_type": "code",
   "execution_count": 14,
   "id": "d83248ce",
   "metadata": {},
   "outputs": [
    {
     "name": "stdout",
     "output_type": "stream",
     "text": [
      "[INFO] compiling model...\n"
     ]
    },
    {
     "name": "stderr",
     "output_type": "stream",
     "text": [
      "C:\\Users\\panwa\\anaconda3\\lib\\site-packages\\keras\\optimizers\\optimizer_v2\\adam.py:110: UserWarning: The `lr` argument is deprecated, use `learning_rate` instead.\n",
      "  super(Adam, self).__init__(name, **kwargs)\n"
     ]
    }
   ],
   "source": [
    "print(\"[INFO] compiling model...\")\n",
    "opt = Adam(lr=INIT_LR, decay=INIT_LR / EPOCHS)\n",
    "model.compile(loss=\"binary_crossentropy\", optimizer=opt,metrics=[\"accuracy\"])"
   ]
  },
  {
   "cell_type": "code",
   "execution_count": 15,
   "id": "4308c73c",
   "metadata": {},
   "outputs": [
    {
     "name": "stdout",
     "output_type": "stream",
     "text": [
      "[INFO] training head...\n",
      "Epoch 1/15\n",
      "21/21 [==============================] - 51s 2s/step - loss: 0.6604 - accuracy: 0.2857 - val_loss: 0.4399 - val_accuracy: 0.7024\n",
      "Epoch 2/15\n",
      "21/21 [==============================] - 36s 2s/step - loss: 0.4501 - accuracy: 0.5848 - val_loss: 0.3146 - val_accuracy: 0.8750\n",
      "Epoch 3/15\n",
      "21/21 [==============================] - 37s 2s/step - loss: 0.3411 - accuracy: 0.7753 - val_loss: 0.2337 - val_accuracy: 0.9464\n",
      "Epoch 4/15\n",
      "21/21 [==============================] - 37s 2s/step - loss: 0.2660 - accuracy: 0.8810 - val_loss: 0.1827 - val_accuracy: 0.9643\n",
      "Epoch 5/15\n",
      "21/21 [==============================] - 36s 2s/step - loss: 0.2276 - accuracy: 0.8988 - val_loss: 0.1463 - val_accuracy: 0.9881\n",
      "Epoch 6/15\n",
      "21/21 [==============================] - 36s 2s/step - loss: 0.1903 - accuracy: 0.9375 - val_loss: 0.1182 - val_accuracy: 0.9881\n",
      "Epoch 7/15\n",
      "21/21 [==============================] - 38s 2s/step - loss: 0.1703 - accuracy: 0.9405 - val_loss: 0.1027 - val_accuracy: 0.9940\n",
      "Epoch 8/15\n",
      "21/21 [==============================] - 36s 2s/step - loss: 0.1534 - accuracy: 0.9568 - val_loss: 0.0892 - val_accuracy: 0.9940\n",
      "Epoch 9/15\n",
      "21/21 [==============================] - 36s 2s/step - loss: 0.1351 - accuracy: 0.9658 - val_loss: 0.0754 - val_accuracy: 0.9881\n",
      "Epoch 10/15\n",
      "21/21 [==============================] - 35s 2s/step - loss: 0.1195 - accuracy: 0.9658 - val_loss: 0.0679 - val_accuracy: 0.9881\n",
      "Epoch 11/15\n",
      "21/21 [==============================] - 36s 2s/step - loss: 0.1125 - accuracy: 0.9807 - val_loss: 0.0606 - val_accuracy: 0.9940\n",
      "Epoch 12/15\n",
      "21/21 [==============================] - 36s 2s/step - loss: 0.1030 - accuracy: 0.9702 - val_loss: 0.0578 - val_accuracy: 0.9881\n",
      "Epoch 13/15\n",
      "21/21 [==============================] - 37s 2s/step - loss: 0.0927 - accuracy: 0.9732 - val_loss: 0.0489 - val_accuracy: 0.9881\n",
      "Epoch 14/15\n",
      "21/21 [==============================] - 36s 2s/step - loss: 0.0813 - accuracy: 0.9821 - val_loss: 0.0449 - val_accuracy: 0.9881\n",
      "Epoch 15/15\n",
      "21/21 [==============================] - 36s 2s/step - loss: 0.0823 - accuracy: 0.9717 - val_loss: 0.0402 - val_accuracy: 0.9881\n"
     ]
    }
   ],
   "source": [
    "print(\"[INFO] training head...\")\n",
    "H = model.fit(\n",
    "    aug.flow(trainX, trainY, batch_size=BS),\n",
    "    steps_per_epoch=len(trainX) // BS,\n",
    "    validation_data=(testX, testY),\n",
    "    validation_steps=len(testX) // BS,\n",
    "    epochs=EPOCHS)"
   ]
  },
  {
   "cell_type": "code",
   "execution_count": 16,
   "id": "c37b1fe4",
   "metadata": {},
   "outputs": [
    {
     "name": "stdout",
     "output_type": "stream",
     "text": [
      "[INFO] evaluating network...\n",
      "6/6 [==============================] - 8s 836ms/step\n"
     ]
    }
   ],
   "source": [
    "print(\"[INFO] evaluating network...\")\n",
    "predIdxs = model.predict(testX, batch_size=BS)"
   ]
  },
  {
   "cell_type": "code",
   "execution_count": 17,
   "id": "3bc61b25",
   "metadata": {},
   "outputs": [],
   "source": [
    "predIdxs = np.argmax(predIdxs, axis=1)"
   ]
  },
  {
   "cell_type": "code",
   "execution_count": 18,
   "id": "b61c7e19",
   "metadata": {},
   "outputs": [],
   "source": [
    "model.save(\"helmet_and_mask_detector.model\", save_format=\"h5\")"
   ]
  },
  {
   "cell_type": "code",
   "execution_count": 19,
   "id": "09c0c432",
   "metadata": {},
   "outputs": [
    {
     "data": {
      "image/png": "[encoded data removed]",
      "text/plain": [
       "<Figure size 432x288 with 1 Axes>"
      ]
     },
     "metadata": {
      "needs_background": "light"
     },
     "output_type": "display_data"
    }
   ],
   "source": [
    "N = EPOCHS\n",
    "plt.style.use(\"ggplot\")\n",
    "plt.figure()\n",
    "plt.plot(np.arange(0, N), H.history[\"loss\"], label=\"train_loss\")\n",
    "plt.plot(np.arange(0, N), H.history[\"val_loss\"], label=\"val_loss\")\n",
    "plt.plot(np.arange(0, N), H.history[\"accuracy\"], label=\"train_acc\")\n",
    "plt.plot(np.arange(0, N), H.history[\"val_accuracy\"], label=\"val_acc\")\n",
    "plt.title(\"Training Loss and Accuracy\")\n",
    "plt.xlabel(\"Epoch #\")\n",
    "plt.ylabel(\"Loss/Accuracy\")\n",
    "plt.legend(loc=\"lower left\")\n",
    "plt.savefig(\"plot.png\")"
   ]
  },
  {
   "cell_type": "code",
   "execution_count": null,
   "id": "37f537d7",
   "metadata": {},
   "outputs": [],
   "source": []
  }
 ],
 "metadata": {
  "kernelspec": {
   "display_name": "Python 3 (ipykernel)",
   "language": "python",
   "name": "python3"
  },
  "language_info": {
   "codemirror_mode": {
    "name": "ipython",
    "version": 3
   },
   "file_extension": ".py",
   "mimetype": "text/x-python",
   "name": "python",
   "nbconvert_exporter": "python",
   "pygments_lexer": "ipython3",
   "version": "3.8.5"
  }
 },
 "nbformat": 4,
 "nbformat_minor": 5
}
